{
 "cells": [
  {
   "cell_type": "code",
   "execution_count": 1,
   "id": "9f452e56",
   "metadata": {},
   "outputs": [],
   "source": [
    "! pip install llama-index-tools-mcp llama-index python-dotenv llama-index-tools-wikipedia fastmcp -q\n"
   ]
  },
  {
   "cell_type": "code",
   "execution_count": null,
   "id": "20b6a7ef",
   "metadata": {},
   "outputs": [
    {
     "name": "stdout",
     "output_type": "stream",
     "text": [
      "latest: Pulling from playwright/mcp\n",
      "Digest: sha256:de4dd2d21ed8282a59701ad91764940a1cc0c2dcc044e016398280e72cc9b142\n",
      "Status: Image is up to date for mcr.microsoft.com/playwright/mcp:latest\n",
      "error: unknown option '-d'\n"
     ]
    }
   ],
   "source": [
    "! docker run -i -d --rm --init --pull=always -p 8931:8931 mcr.microsoft.com/playwright/mcp --port 8931"
   ]
  },
  {
   "cell_type": "code",
   "execution_count": null,
   "id": "e7bfe320",
   "metadata": {},
   "outputs": [],
   "source": [
    "from llama_index.llms.openai import OpenAI\n",
    "from dotenv import load_dotenv\n",
    "from llama_index.tools.mcp import BasicMCPClient, McpToolSpec\n",
    "from llama_index.core.agent.workflow import FunctionAgent\n",
    "from llama_index.core.workflow import Context\n"
   ]
  },
  {
   "cell_type": "code",
   "execution_count": 4,
   "id": "7d675433",
   "metadata": {},
   "outputs": [],
   "source": [
    "load_dotenv()\n",
    "\n",
    "llm = OpenAI(model=\"gpt-4o-mini\")"
   ]
  },
  {
   "cell_type": "code",
   "execution_count": 5,
   "id": "d098ec02",
   "metadata": {},
   "outputs": [
    {
     "name": "stderr",
     "output_type": "stream",
     "text": [
      "  + Exception Group Traceback (most recent call last):\n",
      "  |   File \"/home/niits/miniconda3/lib/python3.13/site-packages/IPython/core/interactiveshell.py\", line 3668, in run_code\n",
      "  |     await eval(code_obj, self.user_global_ns, self.user_ns)\n",
      "  |   File \"/tmp/ipykernel_13799/3873702805.py\", line 7, in <module>\n",
      "  |     tools = await hero_mcp_tool_spec.to_tool_list_async()\n",
      "  |             ^^^^^^^^^^^^^^^^^^^^^^^^^^^^^^^^^^^^^^^^^^^^^\n",
      "  |   File \"/home/niits/miniconda3/lib/python3.13/site-packages/llama_index/tools/mcp/base.py\", line 110, in to_tool_list_async\n",
      "  |     tools_list = await self.fetch_tools()\n",
      "  |                  ^^^^^^^^^^^^^^^^^^^^^^^^\n",
      "  |   File \"/home/niits/miniconda3/lib/python3.13/site-packages/llama_index/tools/mcp/base.py\", line 86, in fetch_tools\n",
      "  |     response = await self.client.list_tools()\n",
      "  |                ^^^^^^^^^^^^^^^^^^^^^^^^^^^^^^\n",
      "  |   File \"/home/niits/miniconda3/lib/python3.13/site-packages/llama_index/tools/mcp/client.py\", line 62, in list_tools\n",
      "  |     async with self._run_session() as session:\n",
      "  |                ~~~~~~~~~~~~~~~~~^^\n",
      "  |   File \"/home/niits/miniconda3/lib/python3.13/contextlib.py\", line 214, in __aenter__\n",
      "  |     return await anext(self.gen)\n",
      "  |            ^^^^^^^^^^^^^^^^^^^^^\n",
      "  |   File \"/home/niits/miniconda3/lib/python3.13/site-packages/llama_index/tools/mcp/client.py\", line 40, in _run_session\n",
      "  |     async with sse_client(self.command_or_url) as streams:\n",
      "  |                ~~~~~~~~~~^^^^^^^^^^^^^^^^^^^^^\n",
      "  |   File \"/home/niits/miniconda3/lib/python3.13/contextlib.py\", line 214, in __aenter__\n",
      "  |     return await anext(self.gen)\n",
      "  |            ^^^^^^^^^^^^^^^^^^^^^\n",
      "  |   File \"/home/niits/miniconda3/lib/python3.13/site-packages/mcp/client/sse.py\", line 45, in sse_client\n",
      "  |     async with anyio.create_task_group() as tg:\n",
      "  |                ~~~~~~~~~~~~~~~~~~~~~~~^^\n",
      "  |   File \"/home/niits/miniconda3/lib/python3.13/site-packages/anyio/_backends/_asyncio.py\", line 772, in __aexit__\n",
      "  |     raise BaseExceptionGroup(\n",
      "  |         \"unhandled errors in a TaskGroup\", self._exceptions\n",
      "  |     ) from None\n",
      "  | ExceptionGroup: unhandled errors in a TaskGroup (1 sub-exception)\n",
      "  +-+---------------- 1 ----------------\n",
      "    | Traceback (most recent call last):\n",
      "    |   File \"/home/niits/miniconda3/lib/python3.13/site-packages/httpx/_transports/default.py\", line 101, in map_httpcore_exceptions\n",
      "    |     yield\n",
      "    |   File \"/home/niits/miniconda3/lib/python3.13/site-packages/httpx/_transports/default.py\", line 394, in handle_async_request\n",
      "    |     resp = await self._pool.handle_async_request(req)\n",
      "    |            ^^^^^^^^^^^^^^^^^^^^^^^^^^^^^^^^^^^^^^^^^^\n",
      "    |   File \"/home/niits/miniconda3/lib/python3.13/site-packages/httpcore/_async/connection_pool.py\", line 256, in handle_async_request\n",
      "    |     raise exc from None\n",
      "    |   File \"/home/niits/miniconda3/lib/python3.13/site-packages/httpcore/_async/connection_pool.py\", line 236, in handle_async_request\n",
      "    |     response = await connection.handle_async_request(\n",
      "    |                ^^^^^^^^^^^^^^^^^^^^^^^^^^^^^^^^^^^^^^\n",
      "    |         pool_request.request\n",
      "    |         ^^^^^^^^^^^^^^^^^^^^\n",
      "    |     )\n",
      "    |     ^\n",
      "    |   File \"/home/niits/miniconda3/lib/python3.13/site-packages/httpcore/_async/connection.py\", line 101, in handle_async_request\n",
      "    |     raise exc\n",
      "    |   File \"/home/niits/miniconda3/lib/python3.13/site-packages/httpcore/_async/connection.py\", line 78, in handle_async_request\n",
      "    |     stream = await self._connect(request)\n",
      "    |              ^^^^^^^^^^^^^^^^^^^^^^^^^^^^\n",
      "    |   File \"/home/niits/miniconda3/lib/python3.13/site-packages/httpcore/_async/connection.py\", line 124, in _connect\n",
      "    |     stream = await self._network_backend.connect_tcp(**kwargs)\n",
      "    |              ^^^^^^^^^^^^^^^^^^^^^^^^^^^^^^^^^^^^^^^^^^^^^^^^^\n",
      "    |   File \"/home/niits/miniconda3/lib/python3.13/site-packages/httpcore/_backends/auto.py\", line 31, in connect_tcp\n",
      "    |     return await self._backend.connect_tcp(\n",
      "    |            ^^^^^^^^^^^^^^^^^^^^^^^^^^^^^^^^\n",
      "    |     ...<5 lines>...\n",
      "    |     )\n",
      "    |     ^\n",
      "    |   File \"/home/niits/miniconda3/lib/python3.13/site-packages/httpcore/_backends/anyio.py\", line 113, in connect_tcp\n",
      "    |     with map_exceptions(exc_map):\n",
      "    |          ~~~~~~~~~~~~~~^^^^^^^^^\n",
      "    |   File \"/home/niits/miniconda3/lib/python3.13/contextlib.py\", line 162, in __exit__\n",
      "    |     self.gen.throw(value)\n",
      "    |     ~~~~~~~~~~~~~~^^^^^^^\n",
      "    |   File \"/home/niits/miniconda3/lib/python3.13/site-packages/httpcore/_exceptions.py\", line 14, in map_exceptions\n",
      "    |     raise to_exc(exc) from exc\n",
      "    | httpcore.ConnectError: All connection attempts failed\n",
      "    | \n",
      "    | The above exception was the direct cause of the following exception:\n",
      "    | \n",
      "    | Traceback (most recent call last):\n",
      "    |   File \"/home/niits/miniconda3/lib/python3.13/site-packages/mcp/client/sse.py\", line 49, in sse_client\n",
      "    |     async with aconnect_sse(\n",
      "    |                ~~~~~~~~~~~~^\n",
      "    |         client,\n",
      "    |         ^^^^^^^\n",
      "    |     ...<2 lines>...\n",
      "    |         timeout=httpx.Timeout(timeout, read=sse_read_timeout),\n",
      "    |         ^^^^^^^^^^^^^^^^^^^^^^^^^^^^^^^^^^^^^^^^^^^^^^^^^^^^^^\n",
      "    |     ) as event_source:\n",
      "    |     ^\n",
      "    |   File \"/home/niits/miniconda3/lib/python3.13/contextlib.py\", line 214, in __aenter__\n",
      "    |     return await anext(self.gen)\n",
      "    |            ^^^^^^^^^^^^^^^^^^^^^\n",
      "    |   File \"/home/niits/miniconda3/lib/python3.13/site-packages/httpx_sse/_api.py\", line 69, in aconnect_sse\n",
      "    |     async with client.stream(method, url, headers=headers, **kwargs) as response:\n",
      "    |                ~~~~~~~~~~~~~^^^^^^^^^^^^^^^^^^^^^^^^^^^^^^^^^^^^^^^^\n",
      "    |   File \"/home/niits/miniconda3/lib/python3.13/contextlib.py\", line 214, in __aenter__\n",
      "    |     return await anext(self.gen)\n",
      "    |            ^^^^^^^^^^^^^^^^^^^^^\n",
      "    |   File \"/home/niits/miniconda3/lib/python3.13/site-packages/httpx/_client.py\", line 1583, in stream\n",
      "    |     response = await self.send(\n",
      "    |                ^^^^^^^^^^^^^^^^\n",
      "    |     ...<4 lines>...\n",
      "    |     )\n",
      "    |     ^\n",
      "    |   File \"/home/niits/miniconda3/lib/python3.13/site-packages/httpx/_client.py\", line 1629, in send\n",
      "    |     response = await self._send_handling_auth(\n",
      "    |                ^^^^^^^^^^^^^^^^^^^^^^^^^^^^^^^\n",
      "    |     ...<4 lines>...\n",
      "    |     )\n",
      "    |     ^\n",
      "    |   File \"/home/niits/miniconda3/lib/python3.13/site-packages/httpx/_client.py\", line 1657, in _send_handling_auth\n",
      "    |     response = await self._send_handling_redirects(\n",
      "    |                ^^^^^^^^^^^^^^^^^^^^^^^^^^^^^^^^^^^^\n",
      "    |     ...<3 lines>...\n",
      "    |     )\n",
      "    |     ^\n",
      "    |   File \"/home/niits/miniconda3/lib/python3.13/site-packages/httpx/_client.py\", line 1694, in _send_handling_redirects\n",
      "    |     response = await self._send_single_request(request)\n",
      "    |                ^^^^^^^^^^^^^^^^^^^^^^^^^^^^^^^^^^^^^^^^\n",
      "    |   File \"/home/niits/miniconda3/lib/python3.13/site-packages/httpx/_client.py\", line 1730, in _send_single_request\n",
      "    |     response = await transport.handle_async_request(request)\n",
      "    |                ^^^^^^^^^^^^^^^^^^^^^^^^^^^^^^^^^^^^^^^^^^^^^\n",
      "    |   File \"/home/niits/miniconda3/lib/python3.13/site-packages/httpx/_transports/default.py\", line 393, in handle_async_request\n",
      "    |     with map_httpcore_exceptions():\n",
      "    |          ~~~~~~~~~~~~~~~~~~~~~~~^^\n",
      "    |   File \"/home/niits/miniconda3/lib/python3.13/contextlib.py\", line 162, in __exit__\n",
      "    |     self.gen.throw(value)\n",
      "    |     ~~~~~~~~~~~~~~^^^^^^^\n",
      "    |   File \"/home/niits/miniconda3/lib/python3.13/site-packages/httpx/_transports/default.py\", line 118, in map_httpcore_exceptions\n",
      "    |     raise mapped_exc(message) from exc\n",
      "    | httpx.ConnectError: All connection attempts failed\n",
      "    +------------------------------------\n"
     ]
    }
   ],
   "source": [
    "mcp_client = BasicMCPClient(\"http://localhost:8931/sse\")\n",
    "\n",
    "hero_mcp_tool_spec = McpToolSpec(\n",
    "    client=mcp_client,\n",
    ")\n",
    "\n",
    "tools = await hero_mcp_tool_spec.to_tool_list_async()\n",
    "tools"
   ]
  },
  {
   "cell_type": "code",
   "execution_count": null,
   "id": "c86a018c",
   "metadata": {},
   "outputs": [],
   "source": [
    "collector_agent = FunctionAgent(\n",
    "    tools=tools,\n",
    "    llm=llm,\n",
    "    system_prompt=\"You are a helpful assistant that can collect information from various sources.\",\n",
    ")\n",
    "\n",
    "ctx = Context(collector_agent)  # type: ignore"
   ]
  },
  {
   "cell_type": "code",
   "execution_count": null,
   "id": "7895e813",
   "metadata": {},
   "outputs": [],
   "source": [
    "response = await collector_agent.run(\"Lên trang github và lấy trending repo\", ctx=ctx)\n",
    "print(\"Response:\")\n",
    "\n",
    "print(str(response))"
   ]
  }
 ],
 "metadata": {
  "kernelspec": {
   "display_name": "base",
   "language": "python",
   "name": "python3"
  },
  "language_info": {
   "codemirror_mode": {
    "name": "ipython",
    "version": 3
   },
   "file_extension": ".py",
   "mimetype": "text/x-python",
   "name": "python",
   "nbconvert_exporter": "python",
   "pygments_lexer": "ipython3",
   "version": "3.13.2"
  }
 },
 "nbformat": 4,
 "nbformat_minor": 5
}
